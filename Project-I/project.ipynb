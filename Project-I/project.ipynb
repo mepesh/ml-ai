{
 "cells": [
  {
   "cell_type": "code",
   "execution_count": 105,
   "metadata": {},
   "outputs": [],
   "source": [
    "#https://towardsdatascience.com/the-simplest-data-science-project-using-pandas-matplotlib-9d7042e7ce6f\n",
    "import pandas as pd\n",
    "import numpy as np"
   ]
  },
  {
   "cell_type": "code",
   "execution_count": 137,
   "metadata": {},
   "outputs": [
    {
     "name": "stdout",
     "output_type": "stream",
     "text": [
      "      year      state     month  number        date\n",
      "0     1998       Acre   Janeiro       0  1998-01-01\n",
      "1     1999       Acre   Janeiro       0  1999-01-01\n",
      "2     2000       Acre   Janeiro       0  2000-01-01\n",
      "3     2001       Acre   Janeiro       0  2001-01-01\n",
      "4     2002       Acre   Janeiro       0  2002-01-01\n",
      "...    ...        ...       ...     ...         ...\n",
      "6449  2012  Tocantins  Dezembro     128  2012-01-01\n",
      "6450  2013  Tocantins  Dezembro      85  2013-01-01\n",
      "6451  2014  Tocantins  Dezembro     223  2014-01-01\n",
      "6452  2015  Tocantins  Dezembro     373  2015-01-01\n",
      "6453  2016  Tocantins  Dezembro     119  2016-01-01\n",
      "\n",
      "[6454 rows x 5 columns]\n"
     ]
    }
   ],
   "source": [
    "df = pd.read_csv(\"amazon.csv\", thousands = '.')\n",
    "print(df)"
   ]
  },
  {
   "cell_type": "markdown",
   "metadata": {},
   "source": [
    "### Conditional Operators on df"
   ]
  },
  {
   "cell_type": "code",
   "execution_count": 139,
   "metadata": {},
   "outputs": [
    {
     "name": "stdout",
     "output_type": "stream",
     "text": [
      "     year    state     month  number        date\n",
      "239  1998  Alagoas   Janeiro       0  1998-01-01\n",
      "240  1999  Alagoas   Janeiro      58  1999-01-01\n",
      "241  2000  Alagoas   Janeiro      11  2000-01-01\n",
      "242  2001  Alagoas   Janeiro       5  2001-01-01\n",
      "243  2002  Alagoas   Janeiro      12  2002-01-01\n",
      "..    ...      ...       ...     ...         ...\n",
      "474  2012  Alagoas  Dezembro      59  2012-01-01\n",
      "475  2013  Alagoas  Dezembro      42  2013-01-01\n",
      "476  2014  Alagoas  Dezembro      24  2014-01-01\n",
      "477  2015  Alagoas  Dezembro     136  2015-01-01\n",
      "478  2016  Alagoas  Dezembro     155  2016-01-01\n",
      "\n",
      "[240 rows x 5 columns]\n"
     ]
    }
   ],
   "source": [
    "#condition - 1\n",
    "yearc = df['year']==1998\n",
    "year1998 = df.loc[yearc]\n",
    "\n",
    "#condition -2\n",
    "numc = df['number'] == 0\n",
    "numzero = df.loc[numc]\n",
    "\n",
    "# single line condition filter\n",
    "df.loc[df['year']==1998]\n",
    "df.loc[df['year']>2010]\n",
    "\n",
    "#other conditional operator\n",
    "df[df.year > 2010]\n",
    "df[df['number'] == 0]\n",
    "df[(df['state']=='Alagoas')]\n",
    "\n",
    "#multiple conditons\n",
    "# df[(condition1) | (condition2)]\n",
    "\n",
    "#multiple conditions - or\n",
    "df[(df['number'] ==1) | (df['year']>2000)]\n",
    "\n",
    "#multiple conditions - and\n",
    "df[(df['month'] == \"Janeiro\") &  (df['number'] >100)]\n",
    "print(df)"
   ]
  },
  {
   "cell_type": "code",
   "execution_count": 140,
   "metadata": {},
   "outputs": [
    {
     "data": {
      "text/html": [
       "<div>\n",
       "<style scoped>\n",
       "    .dataframe tbody tr th:only-of-type {\n",
       "        vertical-align: middle;\n",
       "    }\n",
       "\n",
       "    .dataframe tbody tr th {\n",
       "        vertical-align: top;\n",
       "    }\n",
       "\n",
       "    .dataframe thead th {\n",
       "        text-align: right;\n",
       "    }\n",
       "</style>\n",
       "<table border=\"1\" class=\"dataframe\">\n",
       "  <thead>\n",
       "    <tr style=\"text-align: right;\">\n",
       "      <th></th>\n",
       "      <th>year</th>\n",
       "      <th>state</th>\n",
       "      <th>month</th>\n",
       "      <th>number</th>\n",
       "      <th>date</th>\n",
       "    </tr>\n",
       "  </thead>\n",
       "  <tbody>\n",
       "  </tbody>\n",
       "</table>\n",
       "</div>"
      ],
      "text/plain": [
       "Empty DataFrame\n",
       "Columns: [year, state, month, number, date]\n",
       "Index: []"
      ]
     },
     "execution_count": 140,
     "metadata": {},
     "output_type": "execute_result"
    }
   ],
   "source": [
    "df[(df['state'] =='Acre')]"
   ]
  },
  {
   "cell_type": "code",
   "execution_count": null,
   "metadata": {},
   "outputs": [],
   "source": []
  }
 ],
 "metadata": {
  "kernelspec": {
   "display_name": "Python 3",
   "language": "python",
   "name": "python3"
  },
  "language_info": {
   "codemirror_mode": {
    "name": "ipython",
    "version": 3
   },
   "file_extension": ".py",
   "mimetype": "text/x-python",
   "name": "python",
   "nbconvert_exporter": "python",
   "pygments_lexer": "ipython3",
   "version": "3.7.4"
  }
 },
 "nbformat": 4,
 "nbformat_minor": 2
}
