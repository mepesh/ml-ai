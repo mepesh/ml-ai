{
 "cells": [
  {
   "cell_type": "code",
   "execution_count": 2,
   "metadata": {},
   "outputs": [],
   "source": [
    "#youtube.com/watch?v=vmEHCJofslg&t=103s\n",
    "#https://github.com/KeithGalli/pandas/blob/master/pokemon_data.csv\n",
    "\n",
    "import numpy as np\n",
    "import pandas as pd\n"
   ]
  },
  {
   "cell_type": "code",
   "execution_count": 29,
   "metadata": {},
   "outputs": [
    {
     "name": "stdout",
     "output_type": "stream",
     "text": [
      "(800, 12)\n"
     ]
    },
    {
     "data": {
      "text/plain": [
       "180"
      ]
     },
     "execution_count": 29,
     "metadata": {},
     "output_type": "execute_result"
    }
   ],
   "source": [
    "df = pd.read_excel('pokemon_data.xlsx')\n",
    "\n",
    "# df.iloc[795:,0:]\n",
    "# df\n",
    "print(df.shape)\n",
    "df.shape\n",
    "df.ndim\n",
    "\n",
    "# df.head()\n",
    "# df.tail()\n",
    "# df.dtypes\n",
    "\n",
    "df['Legendary'].describe()\n",
    "df.describe()\n",
    "df['HP'].nunique()\n",
    "df['HP'].shape\n",
    "\n",
    "\n",
    "df.size\n",
    "# df.rename(columns=str.lower, inplace=True)\n",
    "df\n",
    "\n",
    "#Retriving Column names from Dataframe\n",
    "\n",
    "df[['HP','Sp. Atk']]\n",
    "\n",
    "#Removing columns from datasets\n",
    "# df= df.drop(['#','Name'], axis=1)\n",
    "\n",
    "#updates the datframe\n",
    "\n",
    "df.drop(\"#\", axis=1, inplace=True)\n",
    "# df.drop('Name', axis=1, inplace=True)\n",
    "\n",
    "#Remove rows in a datasets\n",
    "df=df.drop(df.index[0:8])\n",
    "# df.head()\n",
    "\n",
    "# df['Type 2'].fillna('Jack')\n",
    "\n",
    "df.iloc[:,8].max()\n",
    "# df['HP'].max()\n",
    "\n",
    "\n",
    "# df.iloc[0:1,8]\n",
    "# df.iloc[100:8,:]\n",
    "# df.iloc[750:,0:8]\n",
    "# df.iloc[785,8]\n",
    "# df.loc[2:12,['#','Defense']]\n",
    "# df.loc[0:18,['Name','Legendary']]"
   ]
  },
  {
   "cell_type": "markdown",
   "metadata": {},
   "source": []
  }
 ],
 "metadata": {
  "kernelspec": {
   "display_name": "Python 3",
   "language": "python",
   "name": "python3"
  },
  "language_info": {
   "codemirror_mode": {
    "name": "ipython",
    "version": 3
   },
   "file_extension": ".py",
   "mimetype": "text/x-python",
   "name": "python",
   "nbconvert_exporter": "python",
   "pygments_lexer": "ipython3",
   "version": "3.7.4"
  }
 },
 "nbformat": 4,
 "nbformat_minor": 2
}
